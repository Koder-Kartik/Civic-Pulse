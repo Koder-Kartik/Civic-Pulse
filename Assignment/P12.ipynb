{
  "nbformat": 4,
  "nbformat_minor": 0,
  "metadata": {
    "colab": {
      "provenance": [],
      "authorship_tag": "ABX9TyO1LHF7DzwqBBBpVPchXvvx",
      "include_colab_link": true
    },
    "kernelspec": {
      "name": "python3",
      "display_name": "Python 3"
    },
    "language_info": {
      "name": "python"
    }
  },
  "cells": [
    {
      "cell_type": "markdown",
      "metadata": {
        "id": "view-in-github",
        "colab_type": "text"
      },
      "source": [
        "<a href=\"https://colab.research.google.com/github/Koder-Kartik/Civic-Pulse/blob/master/Assignment/P12.ipynb\" target=\"_parent\"><img src=\"https://colab.research.google.com/assets/colab-badge.svg\" alt=\"Open In Colab\"/></a>"
      ]
    },
    {
      "cell_type": "code",
      "execution_count": null,
      "metadata": {
        "colab": {
          "base_uri": "https://localhost:8080/"
        },
        "id": "cBOlw2QiKYjG",
        "outputId": "52cc9dcd-065c-4c89-99d5-5dc120436ecc"
      },
      "outputs": [
        {
          "output_type": "stream",
          "name": "stdout",
          "text": [
            "Enter number of pairs: 3\n",
            "Enter first number: 120\n",
            "Enter second number: 140\n",
            "20 840\n"
          ]
        }
      ],
      "source": [
        "def factors(a):\n",
        "    b = []\n",
        "    i = 1\n",
        "    while i <= a:       # include 1 and a\n",
        "        if a % i == 0:\n",
        "            b.append(i)\n",
        "        i += 1           # moved outside the if\n",
        "    return b\n",
        "\n",
        "def common(a, b):\n",
        "    comm = []\n",
        "    for i in a:\n",
        "        if i in b:\n",
        "            comm.append(i)\n",
        "    return comm\n",
        "\n",
        "def GCD(a):\n",
        "    return max(a)        # last element not guaranteed largest, so use max()\n",
        "\n",
        "def LCM(a, b):\n",
        "    greater = max(a, b)\n",
        "    while True:\n",
        "        if (greater % a == 0) and (greater % b == 0):\n",
        "            return greater\n",
        "        greater += 1\n",
        "\n",
        "n = int(input(\"Enter number of pairs: \"))\n",
        "\n",
        "for i in range(n):\n",
        "    num1 = int(input(\"Enter first number: \"))\n",
        "    num2 = int(input(\"Enter second number: \"))\n",
        "    fac1 = factors(num1)\n",
        "    fac2 = factors(num2)\n",
        "    comm = common(fac1, fac2)\n",
        "    ans1 = GCD(comm)\n",
        "    ans2 = LCM(num1, num2)\n",
        "    print(ans1, ans2)\n"
      ]
    },
    {
      "cell_type": "code",
      "source": [],
      "metadata": {
        "id": "U7KK7LhwSEwF"
      },
      "execution_count": null,
      "outputs": []
    }
  ]
}